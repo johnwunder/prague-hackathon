{
 "cells": [
  {
   "cell_type": "markdown",
   "metadata": {},
   "source": [
    "# Using environments\n",
    "\n",
    "python-stix2 environments allow you to abstract away common defaults, such as where you're getting and storing STIX objects, defaults for STIX object properties, markings, etc.\n",
    "\n",
    "## Creating the environment\n",
    "\n",
    "### Environment stores\n",
    "\n",
    "Each environment can have a default \"store\", which is just a place that objects are written to and read from. Stores can be sources (read-only), sinks (write-only), or both.\n",
    "\n",
    "Built-in stores include TAXII, In-Memory, and Filesystem. You can also extend the stores, creating your own, for example to link to your local datastore."
   ]
  },
  {
   "cell_type": "code",
   "execution_count": 7,
   "metadata": {
    "collapsed": true
   },
   "outputs": [],
   "source": [
    "from stix2 import Environment, MemoryStore\n",
    "\n",
    "store = MemoryStore()\n",
    "\n",
    "env = Environment(store=store)"
   ]
  },
  {
   "cell_type": "markdown",
   "metadata": {},
   "source": [
    "### Adding an object to the environment store"
   ]
  },
  {
   "cell_type": "code",
   "execution_count": 8,
   "metadata": {
    "collapsed": true
   },
   "outputs": [],
   "source": [
    "from stix2 import Indicator\n",
    "\n",
    "indicator = Indicator(labels=[\"malicious-activity\"],\n",
    "                      pattern=\"[file:hashes.md5 = 'd41d8cd98f00b204e9800998ecf8427e']\")\n",
    "\n",
    "indicator_id = indicator.id # Just saving this so I can use it to look up from the memory store later :)\n",
    "\n",
    "env.add(indicator)"
   ]
  },
  {
   "cell_type": "markdown",
   "metadata": {},
   "source": [
    "### Getting an object from the environment store"
   ]
  },
  {
   "cell_type": "code",
   "execution_count": 20,
   "metadata": {
    "collapsed": false
   },
   "outputs": [
    {
     "name": "stdout",
     "output_type": "stream",
     "text": [
      "{\n",
      "    \"type\": \"indicator\",\n",
      "    \"id\": \"indicator--d6e60ea6-614e-431e-8d72-a11d8696c254\",\n",
      "    \"created\": \"2017-12-08T09:55:17.275Z\",\n",
      "    \"modified\": \"2017-12-08T09:55:17.275Z\",\n",
      "    \"pattern\": \"[file:hashes.md5 = 'd41d8cd98f00b204e9800998ecf8427e']\",\n",
      "    \"valid_from\": \"2017-12-08T09:55:17.275812Z\",\n",
      "    \"labels\": [\n",
      "        \"malicious-activity\"\n",
      "    ]\n",
      "}\n"
     ]
    }
   ],
   "source": [
    "other_indicator = env.get(indicator_id)\n",
    "\n",
    "print(indicator)"
   ]
  },
  {
   "cell_type": "markdown",
   "metadata": {},
   "source": [
    "## Using Defaults"
   ]
  },
  {
   "cell_type": "code",
   "execution_count": 23,
   "metadata": {
    "collapsed": false
   },
   "outputs": [
    {
     "name": "stdout",
     "output_type": "stream",
     "text": [
      "{\n",
      "    \"type\": \"campaign\",\n",
      "    \"id\": \"campaign--7d8283f2-ef6e-4077-bb28-283057731d19\",\n",
      "    \"created_by_ref\": \"identity--311b2d2d-f010-5473-83ec-1edf84858f4c\",\n",
      "    \"created\": \"2017-12-08T10:00:59.499Z\",\n",
      "    \"modified\": \"2017-12-08T10:00:59.499Z\",\n",
      "    \"name\": \"Shade of Palms\",\n",
      "    \"object_marking_refs\": [\n",
      "        \"marking-definition--613f2e26-407d-48c7-9eca-b8e91df99dc9\"\n",
      "    ]\n",
      "}\n"
     ]
    }
   ],
   "source": [
    "from stix2 import ObjectFactory, Campaign\n",
    "\n",
    "factory = ObjectFactory(\n",
    "    created_by_ref=\"identity--311b2d2d-f010-5473-83ec-1edf84858f4c\",\n",
    "    object_marking_refs=\"marking-definition--613f2e26-407d-48c7-9eca-b8e91df99dc9\"\n",
    ")\n",
    "\n",
    "# Just redefining it here\n",
    "env = Environment(factory=factory, store=store)\n",
    "\n",
    "campaign = factory.create(Campaign,\n",
    "  name=\"Shade of Palms\"\n",
    ")\n",
    "\n",
    "env.add(campaign)\n",
    "\n",
    "print(store.get(campaign.id)) # Yeah I'm just getting what I added back...just proving that it works!!"
   ]
  },
  {
   "cell_type": "code",
   "execution_count": null,
   "metadata": {
    "collapsed": true
   },
   "outputs": [],
   "source": []
  }
 ],
 "metadata": {
  "kernelspec": {
   "display_name": "Python 3",
   "language": "python",
   "name": "python3"
  },
  "language_info": {
   "codemirror_mode": {
    "name": "ipython",
    "version": 3
   },
   "file_extension": ".py",
   "mimetype": "text/x-python",
   "name": "python",
   "nbconvert_exporter": "python",
   "pygments_lexer": "ipython3",
   "version": "3.6.0"
  }
 },
 "nbformat": 4,
 "nbformat_minor": 2
}
