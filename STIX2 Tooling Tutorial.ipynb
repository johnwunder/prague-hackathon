{
 "cells": [
  {
   "cell_type": "markdown",
   "metadata": {},
   "source": [
    "# STIX2 Tooling Tutorial\n",
    "\n",
    "STIX2 tooling described here is all available via open source repositories. Most are OASIS Open, some are not.\n",
    "\n",
    "[OASIS CTI Repositories](https://github.com/oasis-open?q=cti)\n",
    "\n",
    "## Requirements\n",
    "\n",
    "```pip install stix2 stix2-patterns stix2-viz stix2-validator```"
   ]
  },
  {
   "cell_type": "markdown",
   "metadata": {},
   "source": [
    "## Getting data via TAXII\n",
    "\n",
    "Use [python-stix2](https://github.com/oasis-open/cti-python-stix2) to connect to a TAXII server:"
   ]
  },
  {
   "cell_type": "code",
   "execution_count": 1,
   "metadata": {
    "collapsed": false
   },
   "outputs": [
    {
     "name": "stdout",
     "output_type": "stream",
     "text": [
      "Retrieving...\n",
      "Got 1001 results\n"
     ]
    }
   ],
   "source": [
    "# import the stix2 library and the taxii2client libraries\n",
    "from stix2 import TAXIICollectionSource, Filter\n",
    "from taxii2client import Collection\n",
    "\n",
    "# establish TAXII2 Collection instance\n",
    "collection = Collection(\"https://limo.anomali.com/api/v1/taxii2/feeds/collections/107/\", user=\"guest\", password=\"guest\")\n",
    "\n",
    "# supply the TAXII2 collection to TAXIICollection\n",
    "tc_source = TAXIICollectionSource(collection)\n",
    "\n",
    "# build your filter -- kinda seems broken now\n",
    "# f1 = Filter(\"type\",\"=\", \"indicator\")\n",
    "\n",
    "#retrieve the STIX objects\n",
    "results = tc_source.query()\n",
    "\n",
    "print(\"Retrieving...\")\n",
    "print(\"Got {} results\".format(len(results)))"
   ]
  },
  {
   "cell_type": "markdown",
   "metadata": {},
   "source": [
    "## Making sure you can use the data\n",
    "\n",
    "Next we can take the indicators that come back and actually do something with them. In this case, we'll inspect what types of objects and comparisons are contained in the pattern."
   ]
  },
  {
   "cell_type": "code",
   "execution_count": 2,
   "metadata": {
    "collapsed": false
   },
   "outputs": [
    {
     "name": "stdout",
     "output_type": "stream",
     "text": [
      "Name: phish_url: http://www.srbiohealth.com/London1/Eruku/nD/index.php\n",
      "Pattern: [url:value = 'http://www.srbiohealth.com/London1/Eruku/nD/index.php']\n",
      "\n",
      "Pattern inspection: pattern_data(comparisons={'url': [(['value'], '=', \"'http://www.srbiohealth.com/London1/Eruku/nD/index.php'\")]}, observation_ops=set(), qualifiers=set())\n"
     ]
    }
   ],
   "source": [
    "# Import the pattern inspector\n",
    "from stix2patterns.pattern import Pattern\n",
    "\n",
    "# In this case, just get the first indicator\n",
    "indicator = results[0]\n",
    "\n",
    "# Print some basic information\n",
    "print(\"Name: \" + indicator.name)\n",
    "print(\"Pattern: {}\\n\".format(indicator.pattern))\n",
    "\n",
    "parsed_pattern = Pattern(indicator.pattern)\n",
    "\n",
    "print(\"Pattern inspection: \" + str(parsed_pattern.inspect()))"
   ]
  },
  {
   "cell_type": "markdown",
   "metadata": {},
   "source": [
    "## Creating a Sighting\n",
    "\n",
    "While actually matching the pattern is out scope for this tutorial, let's assume that the pattern matched and create a Sighting with the result."
   ]
  },
  {
   "cell_type": "code",
   "execution_count": 3,
   "metadata": {
    "collapsed": false
   },
   "outputs": [
    {
     "name": "stdout",
     "output_type": "stream",
     "text": [
      "Sighting:\n",
      "{\n",
      "    \"type\": \"sighting\",\n",
      "    \"id\": \"sighting--99c034df-19b0-41cf-9a94-cb55023be5ee\",\n",
      "    \"created\": \"2017-12-07T16:09:40.017Z\",\n",
      "    \"modified\": \"2017-12-07T16:09:40.017Z\",\n",
      "    \"first_seen\": \"2017-12-07T17:09:40.017261Z\",\n",
      "    \"last_seen\": \"2017-12-07T17:09:40.017268Z\",\n",
      "    \"count\": 1,\n",
      "    \"sighting_of_ref\": \"indicator--644c3b1b-7133-4e9c-a28b-519c12e66a5d\"\n",
      "}\n"
     ]
    }
   ],
   "source": [
    "# Import the Sighting object to use it\n",
    "from stix2 import Sighting\n",
    "from datetime import datetime\n",
    "\n",
    "sighting = Sighting(\n",
    "    sighting_of_ref=indicator.id,\n",
    "    first_seen=datetime.now(),\n",
    "    last_seen=datetime.now(),\n",
    "    count=1\n",
    ")\n",
    "\n",
    "print(\"Sighting:\\n{}\".format(str(sighting)))"
   ]
  },
  {
   "cell_type": "markdown",
   "metadata": {},
   "source": [
    "## Updating the Sighting\n",
    "\n",
    "What if we saw a couple more sightings? Let's update it!"
   ]
  },
  {
   "cell_type": "code",
   "execution_count": 20,
   "metadata": {
    "collapsed": false
   },
   "outputs": [
    {
     "name": "stdout",
     "output_type": "stream",
     "text": [
      "Sighting:\n",
      "{\n",
      "    \"type\": \"sighting\",\n",
      "    \"id\": \"sighting--99c034df-19b0-41cf-9a94-cb55023be5ee\",\n",
      "    \"created\": \"2017-12-07T16:09:40.017Z\",\n",
      "    \"modified\": \"2017-12-07T16:15:45.601Z\",\n",
      "    \"first_seen\": \"2017-12-07T17:09:40.017261Z\",\n",
      "    \"last_seen\": \"2017-12-07T17:15:45.60144Z\",\n",
      "    \"count\": 5,\n",
      "    \"sighting_of_ref\": \"indicator--644c3b1b-7133-4e9c-a28b-519c12e66a5d\"\n",
      "}\n"
     ]
    }
   ],
   "source": [
    "updated_sighting = sighting.new_version(\n",
    "    count=5,\n",
    "    last_seen=datetime.now()\n",
    ")\n",
    "\n",
    "print(\"Sighting:\\n{}\".format(str(updated_sighting)))"
   ]
  },
  {
   "cell_type": "markdown",
   "metadata": {},
   "source": [
    "## Giving the indicator context\n",
    "\n",
    "What if we know what malware instance the indicator detects? Well, let's create it and add the relationship."
   ]
  },
  {
   "cell_type": "code",
   "execution_count": 5,
   "metadata": {
    "collapsed": false
   },
   "outputs": [
    {
     "name": "stdout",
     "output_type": "stream",
     "text": [
      "Malware:\n",
      "{\n",
      "    \"type\": \"malware\",\n",
      "    \"id\": \"malware--210be9b7-8c41-4b4d-942e-5888015db6b5\",\n",
      "    \"created\": \"2017-12-07T16:09:44.837Z\",\n",
      "    \"modified\": \"2017-12-07T16:09:44.837Z\",\n",
      "    \"name\": \"WannaCry\",\n",
      "    \"description\": \"No, I don't really\",\n",
      "    \"labels\": [\n",
      "        \"ransomware\"\n",
      "    ]\n",
      "}\n",
      "Relationship:\n",
      "{\n",
      "    \"type\": \"relationship\",\n",
      "    \"id\": \"relationship--488536e9-e5a5-44e5-84d6-e20e0af929dd\",\n",
      "    \"created\": \"2017-12-07T16:09:44.837Z\",\n",
      "    \"modified\": \"2017-12-07T16:09:44.837Z\",\n",
      "    \"relationship_type\": \"indicates\",\n",
      "    \"source_ref\": \"indicator--644c3b1b-7133-4e9c-a28b-519c12e66a5d\",\n",
      "    \"target_ref\": \"malware--210be9b7-8c41-4b4d-942e-5888015db6b5\"\n",
      "}\n"
     ]
    }
   ],
   "source": [
    "from stix2 import Malware, Relationship\n",
    "\n",
    "# Create the malware...just some basic details for now\n",
    "wannacry = Malware(name=\"WannaCry\", description=\"No, I don't really\", labels=['ransomware'])\n",
    "\n",
    "# Then relate the indicator to it\n",
    "rel = Relationship(indicator, 'indicates', wannacry)\n",
    "\n",
    "print(\"Malware:\\n{}\".format(str(wannacry)))\n",
    "print(\"Relationship:\\n{}\".format(str(rel)))\n"
   ]
  },
  {
   "cell_type": "markdown",
   "metadata": {},
   "source": [
    "## What does this stuff look like?\n",
    "\n",
    "Next, we can use the visualizer to see what the relationship diagram looks like."
   ]
  },
  {
   "cell_type": "code",
   "execution_count": 6,
   "metadata": {
    "collapsed": false
   },
   "outputs": [
    {
     "data": {
      "text/html": [
       "\n",
       "    <svg id='chart0' style=\"width:800px;height:600px;\"></svg>\n",
       "\n",
       "    <script type=\"text/javascript\">\n",
       "        require([\"nbextensions/stix2viz/stix2viz\"], function(stix2viz) {\n",
       "            chart = $('#chart0')[0];\n",
       "            stix2viz.vizInit(chart, {\"width\": 800, \"height\": 600,\n",
       "                \"iconDir\": \"/nbextensions/stix2viz/icons\"});\n",
       "            stix2viz.vizStix({\n",
       "    \"type\": \"bundle\",\n",
       "    \"id\": \"bundle--5ae36e29-56ec-4523-919e-eebc566f4a7f\",\n",
       "    \"spec_version\": \"2.0\",\n",
       "    \"objects\": [\n",
       "        {\n",
       "            \"type\": \"indicator\",\n",
       "            \"id\": \"indicator--644c3b1b-7133-4e9c-a28b-519c12e66a5d\",\n",
       "            \"created\": \"2016-02-26T18:11:48.479Z\",\n",
       "            \"modified\": \"2016-02-26T18:11:48.479Z\",\n",
       "            \"name\": \"phish_url: http://www.srbiohealth.com/London1/Eruku/nD/index.php\",\n",
       "            \"description\": \"TS ID: 37323558; iType: phish_url; State: active; Org: Web Werks; Source: Phish Tank\",\n",
       "            \"pattern\": \"[url:value = 'http://www.srbiohealth.com/London1/Eruku/nD/index.php']\",\n",
       "            \"valid_from\": \"2016-02-26T18:11:48.479Z\",\n",
       "            \"labels\": [\n",
       "                \"malicious-activity\",\n",
       "                \"threatstream-severity-very-high\",\n",
       "                \"threatstream-confidence-85\"\n",
       "            ],\n",
       "            \"object_marking_refs\": [\n",
       "                \"marking-definition--34098fce-860f-48ae-8e50-ebd3cc5e41da\"\n",
       "            ]\n",
       "        },\n",
       "        {\n",
       "            \"type\": \"malware\",\n",
       "            \"id\": \"malware--210be9b7-8c41-4b4d-942e-5888015db6b5\",\n",
       "            \"created\": \"2017-12-07T16:09:44.837Z\",\n",
       "            \"modified\": \"2017-12-07T16:09:44.837Z\",\n",
       "            \"name\": \"WannaCry\",\n",
       "            \"description\": \"No, I don't really\",\n",
       "            \"labels\": [\n",
       "                \"ransomware\"\n",
       "            ]\n",
       "        },\n",
       "        {\n",
       "            \"type\": \"relationship\",\n",
       "            \"id\": \"relationship--488536e9-e5a5-44e5-84d6-e20e0af929dd\",\n",
       "            \"created\": \"2017-12-07T16:09:44.837Z\",\n",
       "            \"modified\": \"2017-12-07T16:09:44.837Z\",\n",
       "            \"relationship_type\": \"indicates\",\n",
       "            \"source_ref\": \"indicator--644c3b1b-7133-4e9c-a28b-519c12e66a5d\",\n",
       "            \"target_ref\": \"malware--210be9b7-8c41-4b4d-942e-5888015db6b5\"\n",
       "        },\n",
       "        {\n",
       "            \"type\": \"sighting\",\n",
       "            \"id\": \"sighting--99c034df-19b0-41cf-9a94-cb55023be5ee\",\n",
       "            \"created\": \"2017-12-07T16:09:40.017Z\",\n",
       "            \"modified\": \"2017-12-07T16:09:40.017Z\",\n",
       "            \"first_seen\": \"2017-12-07T17:09:40.017261Z\",\n",
       "            \"last_seen\": \"2017-12-07T17:09:40.017268Z\",\n",
       "            \"count\": 1,\n",
       "            \"sighting_of_ref\": \"indicator--644c3b1b-7133-4e9c-a28b-519c12e66a5d\"\n",
       "        }\n",
       "    ]\n",
       "});\n",
       "        });\n",
       "    </script>\n",
       "    "
      ],
      "text/plain": [
       "<IPython.core.display.HTML object>"
      ]
     },
     "execution_count": 6,
     "metadata": {},
     "output_type": "execute_result"
    }
   ],
   "source": [
    "from stix2 import Bundle\n",
    "import stix2viz # This is Jupyter notebook-specific\n",
    "\n",
    "bundle = Bundle(indicator, wannacry, rel, sighting)\n",
    "\n",
    "stix2viz.display(str(bundle))"
   ]
  },
  {
   "cell_type": "markdown",
   "metadata": {
    "collapsed": true
   },
   "source": [
    "## Sharing it Back\n",
    "\n",
    "You can also take the sighting and share it back via TAXII."
   ]
  },
  {
   "cell_type": "code",
   "execution_count": 23,
   "metadata": {
    "collapsed": false
   },
   "outputs": [],
   "source": [
    "collection = Collection('https://ubertaxii.com/scratch/collections/4a26ee4a-924c-4d5e-8519-5d87efe7f6a8/', user='ubertaxii', password='certain_players_want_a_pony')\n",
    "\n",
    "status = collection.add_objects(str(Bundle(sighting)))"
   ]
  },
  {
   "cell_type": "code",
   "execution_count": 24,
   "metadata": {
    "collapsed": false
   },
   "outputs": [
    {
     "name": "stdout",
     "output_type": "stream",
     "text": [
      "Status: complete\n",
      "Successes: 1\n",
      "Failures: 0\n",
      "Pending: 0\n"
     ]
    }
   ],
   "source": [
    "print(\"Status: \" + status.status)\n",
    "print(\"Successes: {}\".format(status.success_count))\n",
    "print(\"Failures: {}\".format(status.failure_count))\n",
    "print(\"Pending: {}\".format(status.pending_count))"
   ]
  },
  {
   "cell_type": "code",
   "execution_count": null,
   "metadata": {
    "collapsed": true
   },
   "outputs": [],
   "source": []
  }
 ],
 "metadata": {
  "kernelspec": {
   "display_name": "Python 3",
   "language": "python",
   "name": "python3"
  },
  "language_info": {
   "codemirror_mode": {
    "name": "ipython",
    "version": 3
   },
   "file_extension": ".py",
   "mimetype": "text/x-python",
   "name": "python",
   "nbconvert_exporter": "python",
   "pygments_lexer": "ipython3",
   "version": "3.6.0"
  }
 },
 "nbformat": 4,
 "nbformat_minor": 2
}
