{
 "cells": [
  {
   "cell_type": "markdown",
   "metadata": {},
   "source": [
    "# STIX2 Tooling Tutorial\n",
    "\n",
    "STIX2 tooling described here is all available via open source repositories. Most are OASIS Open, some are not.\n",
    "\n",
    "[OASIS CTI Repositories](https://github.com/oasis-open?q=cti)\n",
    "\n",
    "## Requirements\n",
    "\n",
    "```pip install stix2 stix2-patterns stix2-viz stix2-validator```"
   ]
  },
  {
   "cell_type": "markdown",
   "metadata": {},
   "source": [
    "## Getting data via TAXII\n",
    "\n",
    "Use [python-stix2](https://github.com/oasis-open/cti-python-stix2) to connect to a TAXII server:"
   ]
  },
  {
   "cell_type": "code",
   "execution_count": 10,
   "metadata": {},
   "outputs": [
    {
     "ename": "HTTPError",
     "evalue": "500 Server Error: INTERNAL SERVER ERROR for url: https://limo.anomali.com/api/v1/taxii2/feeds/collections/107/objects/?match%5Bfilters%5D=match%5Btype%5D",
     "output_type": "error",
     "traceback": [
      "\u001b[0;31m---------------------------------------------------------------------------\u001b[0m",
      "\u001b[0;31mHTTPError\u001b[0m                                 Traceback (most recent call last)",
      "\u001b[0;32m<ipython-input-10-09ed2e82d9f4>\u001b[0m in \u001b[0;36m<module>\u001b[0;34m()\u001b[0m\n\u001b[1;32m     13\u001b[0m \u001b[0;34m\u001b[0m\u001b[0m\n\u001b[1;32m     14\u001b[0m \u001b[0;31m#retrieve the STIX objects\u001b[0m\u001b[0;34m\u001b[0m\u001b[0;34m\u001b[0m\u001b[0m\n\u001b[0;32m---> 15\u001b[0;31m \u001b[0mresults\u001b[0m \u001b[0;34m=\u001b[0m \u001b[0mtc_source\u001b[0m\u001b[0;34m.\u001b[0m\u001b[0mquery\u001b[0m\u001b[0;34m(\u001b[0m\u001b[0;34m[\u001b[0m\u001b[0mf1\u001b[0m\u001b[0;34m]\u001b[0m\u001b[0;34m)\u001b[0m\u001b[0;34m\u001b[0m\u001b[0m\n\u001b[0m\u001b[1;32m     16\u001b[0m \u001b[0;34m\u001b[0m\u001b[0m\n\u001b[1;32m     17\u001b[0m \u001b[0mprint\u001b[0m\u001b[0;34m(\u001b[0m\u001b[0;34m\"Retrieving...\"\u001b[0m\u001b[0;34m)\u001b[0m\u001b[0;34m\u001b[0m\u001b[0m\n",
      "\u001b[0;32m/Users/jwunder/anaconda/lib/python3.6/site-packages/stix2/sources/taxii.py\u001b[0m in \u001b[0;36mquery\u001b[0;34m(self, query, allow_custom, version, _composite_filters)\u001b[0m\n\u001b[1;32m    210\u001b[0m \u001b[0;34m\u001b[0m\u001b[0m\n\u001b[1;32m    211\u001b[0m         \u001b[0;31m# query TAXII collection\u001b[0m\u001b[0;34m\u001b[0m\u001b[0;34m\u001b[0m\u001b[0m\n\u001b[0;32m--> 212\u001b[0;31m         \u001b[0mall_data\u001b[0m \u001b[0;34m=\u001b[0m \u001b[0mself\u001b[0m\u001b[0;34m.\u001b[0m\u001b[0mcollection\u001b[0m\u001b[0;34m.\u001b[0m\u001b[0mget_objects\u001b[0m\u001b[0;34m(\u001b[0m\u001b[0mfilters\u001b[0m\u001b[0;34m=\u001b[0m\u001b[0mtaxii_filters\u001b[0m\u001b[0;34m)\u001b[0m\u001b[0;34m[\u001b[0m\u001b[0;34m\"objects\"\u001b[0m\u001b[0;34m]\u001b[0m\u001b[0;34m\u001b[0m\u001b[0m\n\u001b[0m\u001b[1;32m    213\u001b[0m \u001b[0;34m\u001b[0m\u001b[0m\n\u001b[1;32m    214\u001b[0m         \u001b[0;31m# deduplicate data (before filtering as reduces wasted filtering)\u001b[0m\u001b[0;34m\u001b[0m\u001b[0;34m\u001b[0m\u001b[0m\n",
      "\u001b[0;32m/Users/jwunder/anaconda/lib/python3.6/site-packages/taxii2client/__init__.py\u001b[0m in \u001b[0;36mget_objects\u001b[0;34m(self, **filter_kwargs)\u001b[0m\n\u001b[1;32m    293\u001b[0m         \u001b[0mquery_params\u001b[0m \u001b[0;34m=\u001b[0m \u001b[0m_filter_kwargs_to_query_params\u001b[0m\u001b[0;34m(\u001b[0m\u001b[0mfilter_kwargs\u001b[0m\u001b[0;34m)\u001b[0m\u001b[0;34m\u001b[0m\u001b[0m\n\u001b[1;32m    294\u001b[0m         return self._conn.get(self.objects_url, accept=MEDIA_TYPE_STIX_V20,\n\u001b[0;32m--> 295\u001b[0;31m                               params=query_params)\n\u001b[0m\u001b[1;32m    296\u001b[0m \u001b[0;34m\u001b[0m\u001b[0m\n\u001b[1;32m    297\u001b[0m     \u001b[0;32mdef\u001b[0m \u001b[0mget_object\u001b[0m\u001b[0;34m(\u001b[0m\u001b[0mself\u001b[0m\u001b[0;34m,\u001b[0m \u001b[0mobj_id\u001b[0m\u001b[0;34m,\u001b[0m \u001b[0mversion\u001b[0m\u001b[0;34m=\u001b[0m\u001b[0;32mNone\u001b[0m\u001b[0;34m)\u001b[0m\u001b[0;34m:\u001b[0m\u001b[0;34m\u001b[0m\u001b[0m\n",
      "\u001b[0;32m/Users/jwunder/anaconda/lib/python3.6/site-packages/taxii2client/__init__.py\u001b[0m in \u001b[0;36mget\u001b[0;34m(self, url, accept, params)\u001b[0m\n\u001b[1;32m    571\u001b[0m         \u001b[0mresp\u001b[0m \u001b[0;34m=\u001b[0m \u001b[0mself\u001b[0m\u001b[0;34m.\u001b[0m\u001b[0msession\u001b[0m\u001b[0;34m.\u001b[0m\u001b[0mget\u001b[0m\u001b[0;34m(\u001b[0m\u001b[0murl\u001b[0m\u001b[0;34m,\u001b[0m \u001b[0mheaders\u001b[0m\u001b[0;34m=\u001b[0m\u001b[0mheaders\u001b[0m\u001b[0;34m,\u001b[0m \u001b[0mparams\u001b[0m\u001b[0;34m=\u001b[0m\u001b[0mparams\u001b[0m\u001b[0;34m)\u001b[0m\u001b[0;34m\u001b[0m\u001b[0m\n\u001b[1;32m    572\u001b[0m \u001b[0;34m\u001b[0m\u001b[0m\n\u001b[0;32m--> 573\u001b[0;31m         \u001b[0mresp\u001b[0m\u001b[0;34m.\u001b[0m\u001b[0mraise_for_status\u001b[0m\u001b[0;34m(\u001b[0m\u001b[0;34m)\u001b[0m\u001b[0;34m\u001b[0m\u001b[0m\n\u001b[0m\u001b[1;32m    574\u001b[0m \u001b[0;34m\u001b[0m\u001b[0m\n\u001b[1;32m    575\u001b[0m         \u001b[0mcontent_type\u001b[0m \u001b[0;34m=\u001b[0m \u001b[0mresp\u001b[0m\u001b[0;34m.\u001b[0m\u001b[0mheaders\u001b[0m\u001b[0;34m[\u001b[0m\u001b[0;34m'Content-Type'\u001b[0m\u001b[0;34m]\u001b[0m\u001b[0;34m\u001b[0m\u001b[0m\n",
      "\u001b[0;32m/Users/jwunder/anaconda/lib/python3.6/site-packages/requests/models.py\u001b[0m in \u001b[0;36mraise_for_status\u001b[0;34m(self)\u001b[0m\n\u001b[1;32m    933\u001b[0m \u001b[0;34m\u001b[0m\u001b[0m\n\u001b[1;32m    934\u001b[0m         \u001b[0;32mif\u001b[0m \u001b[0mhttp_error_msg\u001b[0m\u001b[0;34m:\u001b[0m\u001b[0;34m\u001b[0m\u001b[0m\n\u001b[0;32m--> 935\u001b[0;31m             \u001b[0;32mraise\u001b[0m \u001b[0mHTTPError\u001b[0m\u001b[0;34m(\u001b[0m\u001b[0mhttp_error_msg\u001b[0m\u001b[0;34m,\u001b[0m \u001b[0mresponse\u001b[0m\u001b[0;34m=\u001b[0m\u001b[0mself\u001b[0m\u001b[0;34m)\u001b[0m\u001b[0;34m\u001b[0m\u001b[0m\n\u001b[0m\u001b[1;32m    936\u001b[0m \u001b[0;34m\u001b[0m\u001b[0m\n\u001b[1;32m    937\u001b[0m     \u001b[0;32mdef\u001b[0m \u001b[0mclose\u001b[0m\u001b[0;34m(\u001b[0m\u001b[0mself\u001b[0m\u001b[0;34m)\u001b[0m\u001b[0;34m:\u001b[0m\u001b[0;34m\u001b[0m\u001b[0m\n",
      "\u001b[0;31mHTTPError\u001b[0m: 500 Server Error: INTERNAL SERVER ERROR for url: https://limo.anomali.com/api/v1/taxii2/feeds/collections/107/objects/?match%5Bfilters%5D=match%5Btype%5D"
     ]
    }
   ],
   "source": [
    "# import the stix2 library and the taxii2client libraries\n",
    "from stix2 import TAXIICollectionSource, Filter\n",
    "from taxii2client import Collection\n",
    "\n",
    "# establish TAXII2 Collection instance\n",
    "collection = Collection(\"https://limo.anomali.com/api/v1/taxii2/feeds/collections/107/\", user=\"guest\", password=\"guest\")\n",
    "\n",
    "# supply the TAXII2 collection to TAXIICollection\n",
    "tc_source = TAXIICollectionSource(collection)\n",
    "\n",
    "# build your filter -- kinda seems broken now\n",
    "# f1 = Filter(\"type\",\"=\", \"indicator\")\n",
    "\n",
    "#retrieve the STIX objects\n",
    "results = tc_source.query()\n",
    "\n",
    "print(\"Retrieving...\")\n",
    "print(\"Got {} results\".format(len(results)))"
   ]
  },
  {
   "cell_type": "markdown",
   "metadata": {},
   "source": [
    "## Making sure you can use the data\n",
    "\n",
    "Next we can take the indicators that come back and actually do something with them. In this case, we'll inspect what types of objects and comparisons are contained in the pattern."
   ]
  },
  {
   "cell_type": "code",
   "execution_count": 3,
   "metadata": {},
   "outputs": [
    {
     "name": "stdout",
     "output_type": "stream",
     "text": [
      "Name: phish_url: http://www.srbiohealth.com/London1/Eruku/nD/index.php\n",
      "Pattern: [url:value = 'http://www.srbiohealth.com/London1/Eruku/nD/index.php']\n",
      "\n",
      "Pattern inspection: pattern_data(comparisons={'url': [(['value'], '=', \"'http://www.srbiohealth.com/London1/Eruku/nD/index.php'\")]}, observation_ops=set(), qualifiers=set())\n"
     ]
    }
   ],
   "source": [
    "# Import the pattern inspector\n",
    "from stix2patterns.pattern import Pattern\n",
    "\n",
    "# In this case, just get the first indicator\n",
    "indicator = results[0]\n",
    "\n",
    "# Print some basic information\n",
    "print(\"Name: \" + indicator.name)\n",
    "print(\"Pattern: {}\\n\".format(indicator.pattern))\n",
    "\n",
    "parsed_pattern = Pattern(indicator.pattern)\n",
    "\n",
    "print(\"Pattern inspection: \" + str(parsed_pattern.inspect()))"
   ]
  },
  {
   "cell_type": "markdown",
   "metadata": {},
   "source": [
    "## Creating a Sighting\n",
    "\n",
    "While actually matching the pattern is out scope for this tutorial, let's assume that the pattern matched and create a Sighting with the result."
   ]
  },
  {
   "cell_type": "code",
   "execution_count": 4,
   "metadata": {},
   "outputs": [
    {
     "name": "stdout",
     "output_type": "stream",
     "text": [
      "Sighting:\n",
      "{\n",
      "    \"type\": \"sighting\",\n",
      "    \"id\": \"sighting--0e08d5a5-a585-490d-b682-88190372cd71\",\n",
      "    \"created\": \"2017-12-01T05:34:21.297Z\",\n",
      "    \"modified\": \"2017-12-01T05:34:21.297Z\",\n",
      "    \"first_seen\": \"2017-11-30T22:34:21.297744Z\",\n",
      "    \"last_seen\": \"2017-11-30T22:34:21.297748Z\",\n",
      "    \"count\": 1,\n",
      "    \"sighting_of_ref\": \"indicator--c9068319-9865-4b31-9d95-384a6ec24940\"\n",
      "}\n"
     ]
    }
   ],
   "source": [
    "# Import the Sighting object to use it\n",
    "from stix2 import Sighting\n",
    "from datetime import datetime\n",
    "\n",
    "sighting = Sighting(\n",
    "    sighting_of_ref=indicator.id,\n",
    "    first_seen=datetime.now(),\n",
    "    last_seen=datetime.now(),\n",
    "    count=1\n",
    ")\n",
    "\n",
    "print(\"Sighting:\\n{}\".format(str(sighting)))"
   ]
  },
  {
   "cell_type": "markdown",
   "metadata": {},
   "source": [
    "## Updating the Sighting\n",
    "\n",
    "What if we saw a couple more sightings? Let's update it!"
   ]
  },
  {
   "cell_type": "code",
   "execution_count": 5,
   "metadata": {},
   "outputs": [
    {
     "name": "stdout",
     "output_type": "stream",
     "text": [
      "Sighting:\n",
      "{\n",
      "    \"type\": \"sighting\",\n",
      "    \"id\": \"sighting--0e08d5a5-a585-490d-b682-88190372cd71\",\n",
      "    \"created\": \"2017-12-01T05:34:21.297Z\",\n",
      "    \"modified\": \"2017-12-01T05:34:24.088Z\",\n",
      "    \"first_seen\": \"2017-11-30T22:34:21.297744Z\",\n",
      "    \"last_seen\": \"2017-11-30T22:34:24.088628Z\",\n",
      "    \"count\": 3,\n",
      "    \"sighting_of_ref\": \"indicator--c9068319-9865-4b31-9d95-384a6ec24940\"\n",
      "}\n"
     ]
    }
   ],
   "source": [
    "updated_sighting = sighting.new_version(\n",
    "    count=3,\n",
    "    last_seen=datetime.now()\n",
    ")\n",
    "\n",
    "print(\"Sighting:\\n{}\".format(str(updated_sighting)))"
   ]
  },
  {
   "cell_type": "markdown",
   "metadata": {},
   "source": [
    "## Giving the indicator context\n",
    "\n",
    "What if we know what malware instance the indicator detects? Well, let's create it and add the relationship."
   ]
  },
  {
   "cell_type": "code",
   "execution_count": 6,
   "metadata": {},
   "outputs": [
    {
     "name": "stdout",
     "output_type": "stream",
     "text": [
      "Malware:\n",
      "{\n",
      "    \"type\": \"malware\",\n",
      "    \"id\": \"malware--0930713c-8d91-4112-8812-676b0c8fb6f6\",\n",
      "    \"created\": \"2017-12-01T05:34:26.578Z\",\n",
      "    \"modified\": \"2017-12-01T05:34:26.578Z\",\n",
      "    \"name\": \"WannaCry\",\n",
      "    \"description\": \"No, I don't really\",\n",
      "    \"labels\": [\n",
      "        \"ransomware\"\n",
      "    ]\n",
      "}\n",
      "Relationship:\n",
      "{\n",
      "    \"type\": \"relationship\",\n",
      "    \"id\": \"relationship--047d5784-b53f-4848-909d-cda221e15a61\",\n",
      "    \"created\": \"2017-12-01T05:34:26.579Z\",\n",
      "    \"modified\": \"2017-12-01T05:34:26.579Z\",\n",
      "    \"relationship_type\": \"indicates\",\n",
      "    \"source_ref\": \"indicator--c9068319-9865-4b31-9d95-384a6ec24940\",\n",
      "    \"target_ref\": \"malware--0930713c-8d91-4112-8812-676b0c8fb6f6\"\n",
      "}\n"
     ]
    }
   ],
   "source": [
    "from stix2 import Malware, Relationship\n",
    "\n",
    "# Create the malware...just some basic details for now\n",
    "wannacry = Malware(name=\"WannaCry\", description=\"No, I don't really\", labels=['ransomware'])\n",
    "\n",
    "# Then relate the indicator to it\n",
    "rel = Relationship(indicator, 'indicates', wannacry)\n",
    "\n",
    "print(\"Malware:\\n{}\".format(str(wannacry)))\n",
    "print(\"Relationship:\\n{}\".format(str(rel)))\n"
   ]
  },
  {
   "cell_type": "markdown",
   "metadata": {},
   "source": [
    "## What does this stuff look like?\n",
    "\n",
    "Next, we can use the visualizer to see what the relationship diagram looks like."
   ]
  },
  {
   "cell_type": "code",
   "execution_count": 9,
   "metadata": {},
   "outputs": [
    {
     "data": {
      "text/html": [
       "\n",
       "    <svg id='chart0' style=\"width:800px;height:600px;\"></svg>\n",
       "\n",
       "    <script type=\"text/javascript\">\n",
       "        require([\"nbextensions/stix2viz/stix2viz\"], function(stix2viz) {\n",
       "            chart = $('#chart0')[0];\n",
       "            stix2viz.vizInit(chart, {\"width\": 800, \"height\": 600,\n",
       "                \"iconDir\": \"/nbextensions/stix2viz/icons\"});\n",
       "            stix2viz.vizStix({\n",
       "    \"type\": \"bundle\",\n",
       "    \"id\": \"bundle--5e6b16de-9012-441f-949a-3acc4cd6855f\",\n",
       "    \"spec_version\": \"2.0\",\n",
       "    \"objects\": [\n",
       "        {\n",
       "            \"type\": \"indicator\",\n",
       "            \"id\": \"indicator--c9068319-9865-4b31-9d95-384a6ec24940\",\n",
       "            \"created\": \"2016-02-26T18:11:48.479Z\",\n",
       "            \"modified\": \"2016-02-26T18:11:48.479Z\",\n",
       "            \"name\": \"phish_url: http://www.srbiohealth.com/London1/Eruku/nD/index.php\",\n",
       "            \"description\": \"TS ID: 37323558; iType: phish_url; State: active; Org: Web Werks; Source: Phish Tank\",\n",
       "            \"pattern\": \"[url:value = 'http://www.srbiohealth.com/London1/Eruku/nD/index.php']\",\n",
       "            \"valid_from\": \"2016-02-26T18:11:48.479Z\",\n",
       "            \"labels\": [\n",
       "                \"malicious-activity\",\n",
       "                \"threatstream-severity-very-high\",\n",
       "                \"threatstream-confidence-85\"\n",
       "            ],\n",
       "            \"object_marking_refs\": [\n",
       "                \"marking-definition--34098fce-860f-48ae-8e50-ebd3cc5e41da\"\n",
       "            ]\n",
       "        },\n",
       "        {\n",
       "            \"type\": \"malware\",\n",
       "            \"id\": \"malware--0930713c-8d91-4112-8812-676b0c8fb6f6\",\n",
       "            \"created\": \"2017-12-01T05:34:26.578Z\",\n",
       "            \"modified\": \"2017-12-01T05:34:26.578Z\",\n",
       "            \"name\": \"WannaCry\",\n",
       "            \"description\": \"No, I don't really\",\n",
       "            \"labels\": [\n",
       "                \"ransomware\"\n",
       "            ]\n",
       "        },\n",
       "        {\n",
       "            \"type\": \"relationship\",\n",
       "            \"id\": \"relationship--047d5784-b53f-4848-909d-cda221e15a61\",\n",
       "            \"created\": \"2017-12-01T05:34:26.579Z\",\n",
       "            \"modified\": \"2017-12-01T05:34:26.579Z\",\n",
       "            \"relationship_type\": \"indicates\",\n",
       "            \"source_ref\": \"indicator--c9068319-9865-4b31-9d95-384a6ec24940\",\n",
       "            \"target_ref\": \"malware--0930713c-8d91-4112-8812-676b0c8fb6f6\"\n",
       "        },\n",
       "        {\n",
       "            \"type\": \"sighting\",\n",
       "            \"id\": \"sighting--0e08d5a5-a585-490d-b682-88190372cd71\",\n",
       "            \"created\": \"2017-12-01T05:34:21.297Z\",\n",
       "            \"modified\": \"2017-12-01T05:34:21.297Z\",\n",
       "            \"first_seen\": \"2017-11-30T22:34:21.297744Z\",\n",
       "            \"last_seen\": \"2017-11-30T22:34:21.297748Z\",\n",
       "            \"count\": 1,\n",
       "            \"sighting_of_ref\": \"indicator--c9068319-9865-4b31-9d95-384a6ec24940\"\n",
       "        }\n",
       "    ]\n",
       "});\n",
       "        });\n",
       "    </script>\n",
       "    "
      ],
      "text/plain": [
       "<IPython.core.display.HTML object>"
      ]
     },
     "execution_count": 9,
     "metadata": {},
     "output_type": "execute_result"
    }
   ],
   "source": [
    "from stix2 import Bundle\n",
    "import stix2viz # This is Jupyter notebook-specific\n",
    "\n",
    "bundle = Bundle(indicator, wannacry, rel, sighting)\n",
    "\n",
    "stix2viz.display(str(bundle))"
   ]
  },
  {
   "cell_type": "code",
   "execution_count": null,
   "metadata": {
    "collapsed": true
   },
   "outputs": [],
   "source": []
  }
 ],
 "metadata": {
  "kernelspec": {
   "display_name": "Python 3",
   "language": "python",
   "name": "python3"
  },
  "language_info": {
   "codemirror_mode": {
    "name": "ipython",
    "version": 3
   },
   "file_extension": ".py",
   "mimetype": "text/x-python",
   "name": "python",
   "nbconvert_exporter": "python",
   "pygments_lexer": "ipython3",
   "version": "3.6.3"
  }
 },
 "nbformat": 4,
 "nbformat_minor": 2
}
